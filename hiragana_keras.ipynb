{
 "cells": [
  {
   "cell_type": "code",
   "execution_count": 1,
   "metadata": {},
   "outputs": [
    {
     "name": "stdout",
     "output_type": "stream",
     "text": [
      "3.6.9 |Anaconda, Inc.| (default, Jul 30 2019, 13:42:17) \n",
      "[GCC 4.2.1 Compatible Clang 4.0.1 (tags/RELEASE_401/final)]\n"
     ]
    }
   ],
   "source": [
    "import sys\n",
    "\n",
    "print(sys.version)"
   ]
  },
  {
   "cell_type": "code",
   "execution_count": 2,
   "metadata": {},
   "outputs": [],
   "source": [
    "import glob\n",
    "import os\n",
    "import re"
   ]
  },
  {
   "cell_type": "code",
   "execution_count": 3,
   "metadata": {},
   "outputs": [
    {
     "name": "stderr",
     "output_type": "stream",
     "text": [
      "Using TensorFlow backend.\n",
      "/anaconda3/envs/keras/lib/python3.6/site-packages/tensorflow/python/framework/dtypes.py:516: FutureWarning: Passing (type, 1) or '1type' as a synonym of type is deprecated; in a future version of numpy, it will be understood as (type, (1,)) / '(1,)type'.\n",
      "  _np_qint8 = np.dtype([(\"qint8\", np.int8, 1)])\n",
      "/anaconda3/envs/keras/lib/python3.6/site-packages/tensorflow/python/framework/dtypes.py:517: FutureWarning: Passing (type, 1) or '1type' as a synonym of type is deprecated; in a future version of numpy, it will be understood as (type, (1,)) / '(1,)type'.\n",
      "  _np_quint8 = np.dtype([(\"quint8\", np.uint8, 1)])\n",
      "/anaconda3/envs/keras/lib/python3.6/site-packages/tensorflow/python/framework/dtypes.py:518: FutureWarning: Passing (type, 1) or '1type' as a synonym of type is deprecated; in a future version of numpy, it will be understood as (type, (1,)) / '(1,)type'.\n",
      "  _np_qint16 = np.dtype([(\"qint16\", np.int16, 1)])\n",
      "/anaconda3/envs/keras/lib/python3.6/site-packages/tensorflow/python/framework/dtypes.py:519: FutureWarning: Passing (type, 1) or '1type' as a synonym of type is deprecated; in a future version of numpy, it will be understood as (type, (1,)) / '(1,)type'.\n",
      "  _np_quint16 = np.dtype([(\"quint16\", np.uint16, 1)])\n",
      "/anaconda3/envs/keras/lib/python3.6/site-packages/tensorflow/python/framework/dtypes.py:520: FutureWarning: Passing (type, 1) or '1type' as a synonym of type is deprecated; in a future version of numpy, it will be understood as (type, (1,)) / '(1,)type'.\n",
      "  _np_qint32 = np.dtype([(\"qint32\", np.int32, 1)])\n",
      "/anaconda3/envs/keras/lib/python3.6/site-packages/tensorflow/python/framework/dtypes.py:525: FutureWarning: Passing (type, 1) or '1type' as a synonym of type is deprecated; in a future version of numpy, it will be understood as (type, (1,)) / '(1,)type'.\n",
      "  np_resource = np.dtype([(\"resource\", np.ubyte, 1)])\n",
      "/anaconda3/envs/keras/lib/python3.6/site-packages/tensorboard/compat/tensorflow_stub/dtypes.py:541: FutureWarning: Passing (type, 1) or '1type' as a synonym of type is deprecated; in a future version of numpy, it will be understood as (type, (1,)) / '(1,)type'.\n",
      "  _np_qint8 = np.dtype([(\"qint8\", np.int8, 1)])\n",
      "/anaconda3/envs/keras/lib/python3.6/site-packages/tensorboard/compat/tensorflow_stub/dtypes.py:542: FutureWarning: Passing (type, 1) or '1type' as a synonym of type is deprecated; in a future version of numpy, it will be understood as (type, (1,)) / '(1,)type'.\n",
      "  _np_quint8 = np.dtype([(\"quint8\", np.uint8, 1)])\n",
      "/anaconda3/envs/keras/lib/python3.6/site-packages/tensorboard/compat/tensorflow_stub/dtypes.py:543: FutureWarning: Passing (type, 1) or '1type' as a synonym of type is deprecated; in a future version of numpy, it will be understood as (type, (1,)) / '(1,)type'.\n",
      "  _np_qint16 = np.dtype([(\"qint16\", np.int16, 1)])\n",
      "/anaconda3/envs/keras/lib/python3.6/site-packages/tensorboard/compat/tensorflow_stub/dtypes.py:544: FutureWarning: Passing (type, 1) or '1type' as a synonym of type is deprecated; in a future version of numpy, it will be understood as (type, (1,)) / '(1,)type'.\n",
      "  _np_quint16 = np.dtype([(\"quint16\", np.uint16, 1)])\n",
      "/anaconda3/envs/keras/lib/python3.6/site-packages/tensorboard/compat/tensorflow_stub/dtypes.py:545: FutureWarning: Passing (type, 1) or '1type' as a synonym of type is deprecated; in a future version of numpy, it will be understood as (type, (1,)) / '(1,)type'.\n",
      "  _np_qint32 = np.dtype([(\"qint32\", np.int32, 1)])\n",
      "/anaconda3/envs/keras/lib/python3.6/site-packages/tensorboard/compat/tensorflow_stub/dtypes.py:550: FutureWarning: Passing (type, 1) or '1type' as a synonym of type is deprecated; in a future version of numpy, it will be understood as (type, (1,)) / '(1,)type'.\n",
      "  np_resource = np.dtype([(\"resource\", np.ubyte, 1)])\n"
     ]
    }
   ],
   "source": [
    "import keras\n",
    "from keras.utils import np_utils\n",
    "from keras.layers.convolutional import Conv2D, MaxPooling2D\n",
    "from keras.models import Sequential\n",
    "from keras.layers.core import Dense, Dropout, Activation, Flatten\n",
    "from keras.preprocessing.image import array_to_img, img_to_array, load_img\n",
    "import numpy as np\n",
    "import pandas as pd\n",
    "from sklearn.model_selection import train_test_split\n",
    "import matplotlib.pyplot as plt"
   ]
  },
  {
   "cell_type": "code",
   "execution_count": 4,
   "metadata": {},
   "outputs": [],
   "source": [
    "def list_pictures(directory, ext='jpg|jpeg|bmp|png|ppm'):\n",
    "    return [os.path.join(root, f)\n",
    "            for root, _, files in os.walk(directory) for f in files\n",
    "            if re.match(r'([\\w]+\\.(?:' + ext + '))', f.lower())]"
   ]
  },
  {
   "cell_type": "code",
   "execution_count": null,
   "metadata": {},
   "outputs": [],
   "source": [
    "for directory in glob.glob(\"hiragana73/*\"):\n",
    "    for image_files in glob.glob(directory + '/*'):\n",
    "        print(image_files)"
   ]
  },
  {
   "cell_type": "code",
   "execution_count": 10,
   "metadata": {},
   "outputs": [],
   "source": [
    "X = []\n",
    "for directory in glob.glob(\"hiragana73/*\"):\n",
    "    for picture in list_pictures(directory + '/'):\n",
    "        # X = []\n",
    "        \"\"\"\n",
    "        img = img_to_array(\n",
    "            load_img(picture, target_size=(28, 28), grayscale=True))\n",
    "        X.append(img)\n",
    "        \"\"\"\n",
    "        # X = np.asarray(X)\n",
    "        # X = X.astype('float32')\n",
    "        # X = X / 255.0"
   ]
  },
  {
   "cell_type": "code",
   "execution_count": 12,
   "metadata": {},
   "outputs": [
    {
     "data": {
      "text/plain": [
       "80000"
      ]
     },
     "execution_count": 12,
     "metadata": {},
     "output_type": "execute_result"
    }
   ],
   "source": [
    "len(X)"
   ]
  },
  {
   "cell_type": "code",
   "execution_count": 118,
   "metadata": {},
   "outputs": [
    {
     "data": {
      "text/plain": [
       "'お'"
      ]
     },
     "execution_count": 118,
     "metadata": {},
     "output_type": "execute_result"
    }
   ],
   "source": [
    "chr(12362)"
   ]
  },
  {
   "cell_type": "code",
   "execution_count": 46,
   "metadata": {},
   "outputs": [],
   "source": [
    "b = b'\\u304A'"
   ]
  },
  {
   "cell_type": "code",
   "execution_count": 47,
   "metadata": {},
   "outputs": [
    {
     "data": {
      "text/plain": [
       "'お'"
      ]
     },
     "execution_count": 47,
     "metadata": {},
     "output_type": "execute_result"
    }
   ],
   "source": [
    "b.decode('unicode-escape')"
   ]
  },
  {
   "cell_type": "code",
   "execution_count": 37,
   "metadata": {},
   "outputs": [
    {
     "data": {
      "text/plain": [
       "True"
      ]
     },
     "execution_count": 37,
     "metadata": {},
     "output_type": "execute_result"
    }
   ],
   "source": [
    "chr(12362) == b.decode('unicode-escape')"
   ]
  },
  {
   "cell_type": "code",
   "execution_count": 83,
   "metadata": {
    "scrolled": true
   },
   "outputs": [
    {
     "name": "stdout",
     "output_type": "stream",
     "text": [
      "0 あ\n",
      "1 い\n",
      "2 う\n",
      "3 え\n",
      "4 お\n",
      "5 か\n",
      "6 が\n",
      "7 き\n",
      "8 ぎ\n",
      "9 く\n",
      "10 ぐ\n",
      "11 け\n",
      "12 げ\n",
      "13 こ\n",
      "14 ご\n",
      "15 さ\n",
      "16 ざ\n",
      "17 し\n",
      "18 じ\n",
      "19 す\n",
      "20 ず\n",
      "21 せ\n",
      "22 ぜ\n",
      "23 そ\n",
      "24 ぞ\n",
      "25 た\n",
      "26 だ\n",
      "27 ち\n",
      "28 ぢ\n",
      "29 つ\n",
      "30 づ\n",
      "31 て\n",
      "32 で\n",
      "33 と\n",
      "34 ど\n",
      "35 な\n",
      "36 に\n",
      "37 ぬ\n",
      "38 ね\n",
      "39 の\n",
      "40 は\n",
      "41 ば\n",
      "42 ひ\n",
      "43 び\n",
      "44 ふ\n",
      "45 ぶ\n",
      "46 へ\n",
      "47 べ\n",
      "48 ほ\n",
      "49 ぼ\n",
      "50 ま\n",
      "51 み\n",
      "52 む\n",
      "53 め\n",
      "54 も\n",
      "55 や\n",
      "56 ゆ\n",
      "57 よ\n",
      "58 ら\n",
      "59 り\n",
      "60 る\n",
      "61 れ\n",
      "62 ろ\n",
      "63 わ\n",
      "64 ゐ\n",
      "65 ゑ\n",
      "66 を\n",
      "67 ん\n"
     ]
    }
   ],
   "source": [
    "count = 0\n",
    "for i in range(12353, 12436):\n",
    "    if i==12353 or i==12355 or i == 12357 or i == 12359 or i == 12361 \\\n",
    "    or i == 12387 or i==12401 or i==12404 or i==12407 or i == 12410 or i==12413 \\\n",
    "    or i==12419 or i== 12421 or i==12423 or i == 12430:\n",
    "        continue\n",
    "    # count += 1\n",
    "    print(count, chr(i))\n",
    "    count += 1"
   ]
  },
  {
   "cell_type": "code",
   "execution_count": 123,
   "metadata": {
    "scrolled": true
   },
   "outputs": [
    {
     "name": "stdout",
     "output_type": "stream",
     "text": [
      "False\n",
      "False\n",
      "False\n",
      "False\n",
      "True\n",
      "False\n",
      "False\n",
      "False\n",
      "False\n",
      "False\n",
      "False\n",
      "False\n",
      "False\n",
      "False\n",
      "False\n",
      "False\n",
      "False\n",
      "False\n",
      "False\n",
      "False\n",
      "False\n",
      "False\n",
      "False\n",
      "False\n",
      "False\n",
      "False\n",
      "False\n",
      "False\n",
      "False\n",
      "False\n",
      "False\n",
      "False\n",
      "False\n",
      "False\n",
      "False\n",
      "False\n",
      "False\n",
      "False\n",
      "False\n",
      "False\n",
      "False\n",
      "False\n",
      "False\n",
      "False\n",
      "False\n",
      "False\n",
      "False\n",
      "False\n",
      "False\n",
      "False\n",
      "False\n",
      "False\n",
      "False\n",
      "False\n",
      "False\n",
      "False\n",
      "False\n",
      "False\n",
      "False\n",
      "False\n",
      "False\n",
      "False\n",
      "False\n",
      "False\n",
      "False\n",
      "False\n",
      "False\n",
      "False\n",
      "False\n",
      "False\n",
      "False\n",
      "False\n",
      "False\n"
     ]
    }
   ],
   "source": [
    "for directory in glob.glob(\"hiragana73/*\"):\n",
    "    # print(directory)\n",
    "    moji = directory.split('/')[1]\n",
    "    # print('b\\'\\\\\\\\' + moji.lower() + '\\'')\n",
    "    b = 'b\\'\\\\\\\\' + moji.lower() + '\\''\n",
    "    # print(b.decode('unicode-escape'))\n",
    "    print(str(chr(12362).encode('unicode-escape'))== b)"
   ]
  },
  {
   "cell_type": "code",
   "execution_count": 98,
   "metadata": {
    "scrolled": true
   },
   "outputs": [
    {
     "name": "stdout",
     "output_type": "stream",
     "text": [
      "b'\\\\u3042'\n",
      "b'\\\\u3044'\n",
      "b'\\\\u3046'\n",
      "b'\\\\u3048'\n",
      "b'\\\\u304a'\n",
      "b'\\\\u304b'\n",
      "b'\\\\u304c'\n",
      "b'\\\\u304d'\n",
      "b'\\\\u304e'\n",
      "b'\\\\u304f'\n",
      "b'\\\\u3050'\n",
      "b'\\\\u3051'\n",
      "b'\\\\u3052'\n",
      "b'\\\\u3053'\n",
      "b'\\\\u3054'\n",
      "b'\\\\u3055'\n",
      "b'\\\\u3056'\n",
      "b'\\\\u3057'\n",
      "b'\\\\u3058'\n",
      "b'\\\\u3059'\n",
      "b'\\\\u305a'\n",
      "b'\\\\u305b'\n",
      "b'\\\\u305c'\n",
      "b'\\\\u305d'\n",
      "b'\\\\u305e'\n",
      "b'\\\\u305f'\n",
      "b'\\\\u3060'\n",
      "b'\\\\u3061'\n",
      "b'\\\\u3062'\n",
      "b'\\\\u3064'\n",
      "b'\\\\u3065'\n",
      "b'\\\\u3066'\n",
      "b'\\\\u3067'\n",
      "b'\\\\u3068'\n",
      "b'\\\\u3069'\n",
      "b'\\\\u306a'\n",
      "b'\\\\u306b'\n",
      "b'\\\\u306c'\n",
      "b'\\\\u306d'\n",
      "b'\\\\u306e'\n",
      "b'\\\\u306f'\n",
      "b'\\\\u3070'\n",
      "b'\\\\u3072'\n",
      "b'\\\\u3073'\n",
      "b'\\\\u3075'\n",
      "b'\\\\u3076'\n",
      "b'\\\\u3078'\n",
      "b'\\\\u3079'\n",
      "b'\\\\u307b'\n",
      "b'\\\\u307c'\n",
      "b'\\\\u307e'\n",
      "b'\\\\u307f'\n",
      "b'\\\\u3080'\n",
      "b'\\\\u3081'\n",
      "b'\\\\u3082'\n",
      "b'\\\\u3084'\n",
      "b'\\\\u3086'\n",
      "b'\\\\u3088'\n",
      "b'\\\\u3089'\n",
      "b'\\\\u308a'\n",
      "b'\\\\u308b'\n",
      "b'\\\\u308c'\n",
      "b'\\\\u308d'\n",
      "b'\\\\u308f'\n",
      "b'\\\\u3090'\n",
      "b'\\\\u3091'\n",
      "b'\\\\u3092'\n",
      "b'\\\\u3093'\n"
     ]
    }
   ],
   "source": [
    "count = 0\n",
    "for i in range(12353, 12436):\n",
    "    if i==12353 or i==12355 or i == 12357 or i == 12359 or i == 12361 \\\n",
    "    or i == 12387 or i==12401 or i==12404 or i==12407 or i == 12410 or i==12413 \\\n",
    "    or i==12419 or i== 12421 or i==12423 or i == 12430:\n",
    "        continue\n",
    "    print(chr(i).encode('unicode-escape'))\n",
    "    # print(count, chr(i))\n",
    "    count += 1"
   ]
  },
  {
   "cell_type": "code",
   "execution_count": 134,
   "metadata": {
    "scrolled": true
   },
   "outputs": [
    {
     "name": "stdout",
     "output_type": "stream",
     "text": [
      "hiragana73/U3042\n",
      "0\n",
      "hiragana73/U3044\n",
      "1\n",
      "hiragana73/U3046\n",
      "2\n",
      "hiragana73/U3048\n",
      "3\n",
      "hiragana73/U304A\n",
      "4\n",
      "hiragana73/U304B\n",
      "5\n",
      "hiragana73/U304C\n",
      "6\n",
      "hiragana73/U304D\n",
      "7\n",
      "hiragana73/U304E\n",
      "8\n",
      "hiragana73/U304F\n",
      "9\n",
      "hiragana73/U3050\n",
      "10\n",
      "hiragana73/U3051\n",
      "11\n",
      "hiragana73/U3052\n",
      "12\n",
      "hiragana73/U3053\n",
      "13\n",
      "hiragana73/U3054\n",
      "14\n",
      "hiragana73/U3055\n",
      "15\n",
      "hiragana73/U3056\n",
      "16\n",
      "hiragana73/U3057\n",
      "17\n",
      "hiragana73/U3058\n",
      "18\n",
      "hiragana73/U3059\n",
      "19\n",
      "hiragana73/U305A\n",
      "20\n",
      "hiragana73/U305B\n",
      "21\n",
      "hiragana73/U305C\n",
      "22\n",
      "hiragana73/U305D\n",
      "23\n",
      "hiragana73/U305E\n",
      "24\n",
      "hiragana73/U305F\n",
      "25\n",
      "hiragana73/U3060\n",
      "26\n",
      "hiragana73/U3061\n",
      "27\n",
      "hiragana73/U3062\n",
      "28\n",
      "hiragana73/U3064\n",
      "29\n",
      "hiragana73/U3065\n",
      "30\n",
      "hiragana73/U3066\n",
      "31\n",
      "hiragana73/U3067\n",
      "32\n",
      "hiragana73/U3068\n",
      "33\n",
      "hiragana73/U3069\n",
      "34\n",
      "hiragana73/U306A\n",
      "35\n",
      "hiragana73/U306B\n",
      "36\n",
      "hiragana73/U306C\n",
      "37\n",
      "hiragana73/U306D\n",
      "38\n",
      "hiragana73/U306E\n",
      "39\n",
      "hiragana73/U306F\n",
      "40\n",
      "hiragana73/U3070\n",
      "41\n",
      "hiragana73/U3071\n",
      "hiragana73/U3072\n",
      "42\n",
      "hiragana73/U3073\n",
      "43\n",
      "hiragana73/U3074\n",
      "hiragana73/U3075\n",
      "44\n",
      "hiragana73/U3076\n",
      "45\n",
      "hiragana73/U3077\n",
      "hiragana73/U3078\n",
      "46\n",
      "hiragana73/U3079\n",
      "47\n",
      "hiragana73/U307A\n",
      "hiragana73/U307B\n",
      "48\n",
      "hiragana73/U307C\n",
      "49\n",
      "hiragana73/U307D\n",
      "hiragana73/U307E\n",
      "50\n",
      "hiragana73/U307F\n",
      "51\n",
      "hiragana73/U3080\n",
      "52\n",
      "hiragana73/U3081\n",
      "53\n",
      "hiragana73/U3082\n",
      "54\n",
      "hiragana73/U3084\n",
      "55\n",
      "hiragana73/U3086\n",
      "56\n",
      "hiragana73/U3088\n",
      "57\n",
      "hiragana73/U3089\n",
      "58\n",
      "hiragana73/U308A\n",
      "59\n",
      "hiragana73/U308B\n",
      "60\n",
      "hiragana73/U308C\n",
      "61\n",
      "hiragana73/U308D\n",
      "62\n",
      "hiragana73/U308F\n",
      "63\n",
      "hiragana73/U3090\n",
      "64\n",
      "hiragana73/U3091\n",
      "65\n",
      "hiragana73/U3092\n",
      "66\n",
      "hiragana73/U3093\n",
      "67\n"
     ]
    }
   ],
   "source": [
    "X = []\n",
    "Y = []\n",
    "for directory in glob.glob(\"hiragana73/*\"):\n",
    "    print(directory)\n",
    "    moji = directory.split('/')[1]\n",
    "    b = 'b\\'\\\\\\\\' + moji.lower() + '\\''\n",
    "    count = 0\n",
    "    for i in range(12353, 12436):\n",
    "        if i==12353 or i==12355 or i == 12357 or i == 12359 or i == 12361 \\\n",
    "        or i == 12387 or i==12401 or i==12404 or i==12407 or i == 12410 or i==12413 \\\n",
    "        or i==12419 or i== 12421 or i==12423 or i == 12430:\n",
    "            continue\n",
    "            \n",
    "        if str(chr(i).encode('unicode-escape'))== b:\n",
    "            print(count)\n",
    "            for picture in list_pictures(directory + '/'):\n",
    "                img = img_to_array(\n",
    "                    load_img(picture, target_size=(28, 28), grayscale=True))\n",
    "                X.append(img)\n",
    "                Y.append(count)\n",
    "            # break\n",
    "        count += 1\n",
    "    \"\"\"\n",
    "    for picture in list_pictures(directory + '/'):\n",
    "        img = img_to_array(\n",
    "            load_img(picture, target_size=(28, 28), grayscale=True))\n",
    "        X.append(img)\n",
    "        Y.append(count)\n",
    "    \"\"\""
   ]
  },
  {
   "cell_type": "code",
   "execution_count": 135,
   "metadata": {},
   "outputs": [
    {
     "data": {
      "text/plain": [
       "78971"
      ]
     },
     "execution_count": 135,
     "metadata": {},
     "output_type": "execute_result"
    }
   ],
   "source": [
    "len(X)"
   ]
  },
  {
   "cell_type": "code",
   "execution_count": 136,
   "metadata": {},
   "outputs": [
    {
     "data": {
      "text/plain": [
       "78971"
      ]
     },
     "execution_count": 136,
     "metadata": {},
     "output_type": "execute_result"
    }
   ],
   "source": [
    "len(Y)"
   ]
  },
  {
   "cell_type": "code",
   "execution_count": 137,
   "metadata": {},
   "outputs": [
    {
     "data": {
      "text/plain": [
       "67"
      ]
     },
     "execution_count": 137,
     "metadata": {},
     "output_type": "execute_result"
    }
   ],
   "source": [
    "Y[78970]"
   ]
  },
  {
   "cell_type": "code",
   "execution_count": 138,
   "metadata": {},
   "outputs": [],
   "source": [
    "X = np.asarray(X)\n",
    "Y = np.asarray(Y)\n",
    "X = X.astype('float32')\n",
    "X = X / 255.0"
   ]
  },
  {
   "cell_type": "code",
   "execution_count": 139,
   "metadata": {},
   "outputs": [],
   "source": [
    "Y = np_utils.to_categorical(Y, 68)"
   ]
  },
  {
   "cell_type": "code",
   "execution_count": 141,
   "metadata": {},
   "outputs": [
    {
     "data": {
      "text/plain": [
       "array([1., 0., 0., 0., 0., 0., 0., 0., 0., 0., 0., 0., 0., 0., 0., 0., 0.,\n",
       "       0., 0., 0., 0., 0., 0., 0., 0., 0., 0., 0., 0., 0., 0., 0., 0., 0.,\n",
       "       0., 0., 0., 0., 0., 0., 0., 0., 0., 0., 0., 0., 0., 0., 0., 0., 0.,\n",
       "       0., 0., 0., 0., 0., 0., 0., 0., 0., 0., 0., 0., 0., 0., 0., 0., 0.],\n",
       "      dtype=float32)"
      ]
     },
     "execution_count": 141,
     "metadata": {},
     "output_type": "execute_result"
    }
   ],
   "source": [
    "Y[0]"
   ]
  },
  {
   "cell_type": "code",
   "execution_count": 142,
   "metadata": {},
   "outputs": [],
   "source": [
    "X_train, X_test, y_train, y_test = train_test_split(X, Y, test_size=0.33, random_state=111)"
   ]
  },
  {
   "cell_type": "code",
   "execution_count": 144,
   "metadata": {},
   "outputs": [
    {
     "name": "stdout",
     "output_type": "stream",
     "text": [
      "WARNING:tensorflow:From /anaconda3/envs/keras/lib/python3.6/site-packages/keras/backend/tensorflow_backend.py:74: The name tf.get_default_graph is deprecated. Please use tf.compat.v1.get_default_graph instead.\n",
      "\n",
      "WARNING:tensorflow:From /anaconda3/envs/keras/lib/python3.6/site-packages/keras/backend/tensorflow_backend.py:517: The name tf.placeholder is deprecated. Please use tf.compat.v1.placeholder instead.\n",
      "\n",
      "WARNING:tensorflow:From /anaconda3/envs/keras/lib/python3.6/site-packages/keras/backend/tensorflow_backend.py:4138: The name tf.random_uniform is deprecated. Please use tf.random.uniform instead.\n",
      "\n",
      "WARNING:tensorflow:From /anaconda3/envs/keras/lib/python3.6/site-packages/keras/backend/tensorflow_backend.py:3976: The name tf.nn.max_pool is deprecated. Please use tf.nn.max_pool2d instead.\n",
      "\n",
      "WARNING:tensorflow:From /anaconda3/envs/keras/lib/python3.6/site-packages/keras/backend/tensorflow_backend.py:133: The name tf.placeholder_with_default is deprecated. Please use tf.compat.v1.placeholder_with_default instead.\n",
      "\n",
      "WARNING:tensorflow:From /anaconda3/envs/keras/lib/python3.6/site-packages/keras/backend/tensorflow_backend.py:3445: calling dropout (from tensorflow.python.ops.nn_ops) with keep_prob is deprecated and will be removed in a future version.\n",
      "Instructions for updating:\n",
      "Please use `rate` instead of `keep_prob`. Rate should be set to `rate = 1 - keep_prob`.\n"
     ]
    }
   ],
   "source": [
    "model = Sequential()\n",
    "\n",
    "model.add(Conv2D(32, (3, 3), padding='same',\n",
    "                 input_shape=X_train.shape[1:]))\n",
    "model.add(Activation('relu'))\n",
    "model.add(Conv2D(32, (3, 3)))\n",
    "model.add(Activation('relu'))\n",
    "model.add(MaxPooling2D(pool_size=(2, 2)))\n",
    "model.add(Dropout(0.25))\n",
    "\n",
    "model.add(Conv2D(64, (3, 3), padding='same'))\n",
    "model.add(Activation('relu'))\n",
    "model.add(Conv2D(64, (3, 3)))\n",
    "model.add(Activation('relu'))\n",
    "model.add(MaxPooling2D(pool_size=(2, 2)))\n",
    "model.add(Dropout(0.25))\n",
    "\n",
    "model.add(Flatten())\n",
    "model.add(Dense(512))\n",
    "model.add(Activation('relu'))\n",
    "model.add(Dropout(0.5))\n",
    "model.add(Dense(68))       # クラスは2個\n",
    "model.add(Activation('softmax'))"
   ]
  },
  {
   "cell_type": "code",
   "execution_count": 145,
   "metadata": {},
   "outputs": [
    {
     "name": "stdout",
     "output_type": "stream",
     "text": [
      "WARNING:tensorflow:From /anaconda3/envs/keras/lib/python3.6/site-packages/keras/optimizers.py:790: The name tf.train.Optimizer is deprecated. Please use tf.compat.v1.train.Optimizer instead.\n",
      "\n",
      "WARNING:tensorflow:From /anaconda3/envs/keras/lib/python3.6/site-packages/keras/backend/tensorflow_backend.py:3295: The name tf.log is deprecated. Please use tf.math.log instead.\n",
      "\n"
     ]
    }
   ],
   "source": [
    "# コンパイル\n",
    "model.compile(loss='categorical_crossentropy',\n",
    "              optimizer='SGD',\n",
    "              metrics=['accuracy'])"
   ]
  },
  {
   "cell_type": "code",
   "execution_count": 146,
   "metadata": {},
   "outputs": [
    {
     "name": "stdout",
     "output_type": "stream",
     "text": [
      "WARNING:tensorflow:From /anaconda3/envs/keras/lib/python3.6/site-packages/tensorflow/python/ops/math_grad.py:1250: add_dispatch_support.<locals>.wrapper (from tensorflow.python.ops.array_ops) is deprecated and will be removed in a future version.\n",
      "Instructions for updating:\n",
      "Use tf.where in 2.0, which has the same broadcast rule as np.where\n",
      "Train on 52910 samples, validate on 26061 samples\n",
      "Epoch 1/3\n",
      "52910/52910 [==============================] - 277s 5ms/step - loss: 1.8506 - acc: 0.5556 - val_loss: 0.0902 - val_acc: 0.9795\n",
      "Epoch 2/3\n",
      "52910/52910 [==============================] - 265s 5ms/step - loss: 0.1461 - acc: 0.9633 - val_loss: 0.0523 - val_acc: 0.9876\n",
      "Epoch 3/3\n",
      "52910/52910 [==============================] - 271s 5ms/step - loss: 0.0915 - acc: 0.9759 - val_loss: 0.0366 - val_acc: 0.9927\n"
     ]
    }
   ],
   "source": [
    "history = model.fit(X_train, y_train,  # 画像とラベルデータ\n",
    "                    batch_size=8,\n",
    "                    epochs=3,     # エポック数の指定\n",
    "                    verbose=1,         # ログ出力の指定. 0だとログが出ない\n",
    "                    validation_data=(X_test, y_test))"
   ]
  },
  {
   "cell_type": "code",
   "execution_count": 147,
   "metadata": {},
   "outputs": [
    {
     "name": "stdout",
     "output_type": "stream",
     "text": [
      "Test loss: 0.0365545877574374\n",
      "Test accuracy: 0.9927477840451249\n"
     ]
    }
   ],
   "source": [
    "score = model.evaluate(X_test, y_test, verbose=0)\n",
    "print('Test loss:', score[0])\n",
    "print('Test accuracy:', score[1])"
   ]
  },
  {
   "cell_type": "code",
   "execution_count": null,
   "metadata": {},
   "outputs": [],
   "source": []
  }
 ],
 "metadata": {
  "kernelspec": {
   "display_name": "Environment (conda_keras)",
   "language": "python",
   "name": "conda_keras"
  },
  "language_info": {
   "codemirror_mode": {
    "name": "ipython",
    "version": 3
   },
   "file_extension": ".py",
   "mimetype": "text/x-python",
   "name": "python",
   "nbconvert_exporter": "python",
   "pygments_lexer": "ipython3",
   "version": "3.6.9"
  }
 },
 "nbformat": 4,
 "nbformat_minor": 2
}
